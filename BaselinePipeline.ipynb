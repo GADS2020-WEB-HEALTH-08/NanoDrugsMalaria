{
 "cells": [
  {
   "cell_type": "markdown",
   "metadata": {},
   "source": [
    "# Pipelines for classifiers\n",
    "\n",
    "For each dataset, classifier and folds:\n",
    "- scaling\n",
    "- feature selection\n",
    "- outerCV"
   ]
  },
  {
   "cell_type": "code",
   "execution_count": 1,
   "metadata": {},
   "outputs": [],
   "source": [
    "%reload_ext autoreload\n",
    "%autoreload 2\n",
    "%matplotlib inline\n",
    "\n",
    "# remove warnings\n",
    "import warnings\n",
    "warnings.filterwarnings(\"ignore\", category=DeprecationWarning) "
   ]
  },
  {
   "cell_type": "code",
   "execution_count": 2,
   "metadata": {},
   "outputs": [],
   "source": [
    "import numpy as np\n",
    "import pandas as pd\n",
    "import time\n",
    "import matplotlib.pyplot as plt\n",
    "\n",
    "from sklearn.pipeline import Pipeline\n",
    "from sklearn.model_selection import cross_val_score, GridSearchCV, StratifiedKFold\n",
    "from sklearn.metrics import confusion_matrix,accuracy_score, roc_auc_score,f1_score, recall_score, precision_score\n",
    "from sklearn.utils import class_weight\n",
    "\n",
    "from sklearn.neighbors import KNeighborsClassifier\n",
    "from sklearn.linear_model import LogisticRegression, LassoCV\n",
    "from sklearn.tree import DecisionTreeClassifier\n",
    "from sklearn.ensemble import RandomForestClassifier, ExtraTreesClassifier\n",
    "from xgboost import XGBClassifier\n",
    "from sklearn.svm import SVC\n",
    "from sklearn.gaussian_process.kernels import RBF\n",
    "from sklearn.svm import LinearSVC\n",
    "from sklearn.discriminant_analysis import LinearDiscriminantAnalysis\n",
    "\n",
    "from sklearn.decomposition import PCA\n",
    "from sklearn.preprocessing import StandardScaler, MinMaxScaler\n",
    "from sklearn.feature_selection import RFECV, VarianceThreshold, SelectKBest, chi2\n",
    "from sklearn.feature_selection import SelectFromModel, SelectPercentile, f_classif"
   ]
  },
  {
   "cell_type": "markdown",
   "metadata": {},
   "source": [
    "### Define script parameters"
   ]
  },
  {
   "cell_type": "code",
   "execution_count": 3,
   "metadata": {},
   "outputs": [],
   "source": [
    "# define output variables\n",
    "outVars = ['Class']\n",
    "\n",
    "# define list of folds\n",
    "foldTypes = [10] # [3,5,10]\n",
    "\n",
    "# define a label for output files\n",
    "targetName = 's-Std.Outer'\n",
    "\n",
    "seed = 42"
   ]
  },
  {
   "cell_type": "markdown",
   "metadata": {},
   "source": [
    "### Function definitions"
   ]
  },
  {
   "cell_type": "code",
   "execution_count": 4,
   "metadata": {},
   "outputs": [],
   "source": [
    "def  set_weights(y_data, option='balanced'):\n",
    "    \"\"\"Estimate class weights for umbalanced dataset\n",
    "       If ‘balanced’, class weights will be given by n_samples / (n_classes * np.bincount(y)). \n",
    "       If a dictionary is given, keys are classes and values are corresponding class weights. \n",
    "       If None is given, the class weights will be uniform \"\"\"\n",
    "    cw = class_weight.compute_class_weight(option, np.unique(y_data), y_data)\n",
    "    w = {i:j for i,j in zip(np.unique(y_data), cw)}\n",
    "    return w "
   ]
  },
  {
   "cell_type": "code",
   "execution_count": 5,
   "metadata": {},
   "outputs": [],
   "source": [
    "def getDataFromDataset(sFile, OutVar):\n",
    "    # read details file\n",
    "    print('\\n-> Read dataset', sFile)\n",
    "    df = pd.read_csv(sFile)\n",
    "    print('Shape', df.shape)\n",
    "    # print(list(df.columns))\n",
    "\n",
    "    # select X and Y\n",
    "    ds_y = df[OutVar]\n",
    "    ds_X = df.drop(OutVar,axis = 1)\n",
    "    Xdata = ds_X.values # get values of features\n",
    "    Ydata = ds_y.values # get output values\n",
    "\n",
    "    print('Shape X data:', Xdata.shape)\n",
    "    print('Shape Y data:',Ydata.shape)\n",
    "    \n",
    "    # return data for X and Y, feature names as list\n",
    "    return (Xdata, Ydata, list(ds_X.columns))"
   ]
  },
  {
   "cell_type": "code",
   "execution_count": 6,
   "metadata": {},
   "outputs": [],
   "source": [
    "def Pipeline_OuterCV(Xdata, Ydata, label = 'my', class_weights = {0: 1, 1: 1}, folds = 3, seed = 42):\n",
    "    # inputs:\n",
    "    # data for X, Y; a label about data, class_weights, number of folds, seeed\n",
    "    \n",
    "    # default: 10-fold CV, 1:1 class weights (balanced dataset)\n",
    "    priors = [(class_weights[0]/(class_weights[0]+class_weights[1])), (class_weights[1]/(class_weights[0]+class_weights[1]))]\n",
    "    \n",
    "    # define classifiers\n",
    "    names = ['KNN', 'SVM linear', 'SVM', 'LR', 'LDA', 'DT', 'RF', 'XGB'] # ['KNN', 'SVM linear', 'SVM', 'LR', 'DT', 'RF', 'XGB']\n",
    "    classifiers = [KNeighborsClassifier(3),\n",
    "                   SVC(kernel=\"linear\",random_state=seed,class_weight=class_weights,gamma='scale'),\n",
    "                   SVC(kernel = 'rbf', random_state=seed,class_weight=class_weights,gamma='scale'),\n",
    "                   LogisticRegression(solver='lbfgs',random_state=seed,class_weight=class_weights),\n",
    "                   LinearDiscriminantAnalysis(solver='svd',priors=priors), # No tiene random_state\n",
    "                   DecisionTreeClassifier(random_state = seed, class_weight=class_weights),\n",
    "                   RandomForestClassifier(n_estimators=100,n_jobs=-1,random_state=seed,class_weight=class_weights),\n",
    "                   XGBClassifier(n_jobs=-1,scale_pos_weight= class_weights[0]/class_weights[1],seed=seed)\n",
    "                  ]\n",
    "    # results dataframe: each column for a classifier\n",
    "    df_res = pd.DataFrame(columns=names)\n",
    "\n",
    "    # build each classifier\n",
    "    print('* Building scaling+feature selection+outer '+str(folds)+'-fold CV for '+str(len(names))+' classifiers:', str(names))\n",
    "    total = time.time()\n",
    "    \n",
    "    # define a fold-CV for all the classifier\n",
    "    outer_cv = StratifiedKFold(n_splits=folds,shuffle=True,random_state=seed)\n",
    "    \n",
    "    for name, clf in zip(names, classifiers):\n",
    "        start = time.time()\n",
    "        \n",
    "        # create pipeline: scaler + classifier\n",
    "        estimators = []\n",
    "        \n",
    "        # SCALER\n",
    "        # MinMaxScaler(), StandardScaler(), RobustScaler(), QuantileTransformer(), PowerTransformer()\n",
    "        estimators.append(('Scaler', StandardScaler()))\n",
    "        \n",
    "        # add Classifier\n",
    "        estimators.append(('Classifier', clf)) \n",
    "        \n",
    "        # create pipeline\n",
    "        model = Pipeline(estimators)\n",
    "        \n",
    "        # evaluate pipeline\n",
    "        scores = cross_val_score(model, Xdata, Ydata, cv=outer_cv, scoring='roc_auc', n_jobs=-1)\n",
    "        \n",
    "        df_res[name] = scores\n",
    "        print('%s, MeanAUC=%0.2f, Time:%0.1f mins' % (name, scores.mean(), (time.time() - start)/60))\n",
    "        \n",
    "    # save results\n",
    "    resFile = './results/'+str(label)+'_Outer-'+str(folds)+'-foldCV.csv'\n",
    "    df_res.to_csv(resFile, index=False)\n",
    "    print('* Scores saved', resFile)\n",
    "        \n",
    "    print('Total time:', (time.time() - total)/60, ' mins')             \n",
    "    \n",
    "    # print all results\n",
    "    # print(df_res)\n",
    "    \n",
    "    # generate a boxplot for all classifiers\n",
    "    boxplot = df_res.boxplot(column=names)\n",
    "    \n",
    "    # save the figure\n",
    "    plotFile = './results/'+str(label)+'_s-MinMax.fs-Best50.Outer-'+str(folds)+'-foldCV.jpeg'\n",
    "    \n",
    "    boxplot.figure.savefig(plotFile,format='jpeg',dpi=100)\n",
    "    print('* Saving plot:', plotFile)\n",
    "    \n",
    "    # clean each figure\n",
    "    boxplot.figure.clf()\n",
    "    \n",
    "    # return AUC scores for all classifiers as dataframe (each column a classifier)\n",
    "    return df_res"
   ]
  },
  {
   "cell_type": "markdown",
   "metadata": {},
   "source": [
    "### Calculations"
   ]
  },
  {
   "cell_type": "code",
   "execution_count": 7,
   "metadata": {},
   "outputs": [
    {
     "name": "stdout",
     "output_type": "stream",
     "text": [
      "\n",
      "-> Read dataset ./datasets/ds.raw.csv\n",
      "Shape (249992, 108)\n",
      "Shape X data: (249992, 107)\n",
      "Shape Y data: (249992,)\n",
      "Class weights =  {0: 0.637780249609666, 1: 2.3144835758989744}\n",
      "* Building scaling+feature selection+outer 3-fold CV for 6 classifiers: ['KNN', 'LR', 'LDA', 'DT', 'RF', 'XGB']\n",
      "KNN, MeanAUC=0.89, Time:4.1 mins\n",
      "LR, MeanAUC=0.89, Time:0.3 mins\n",
      "LDA, MeanAUC=0.89, Time:0.4 mins\n",
      "DT, MeanAUC=0.91, Time:0.3 mins\n",
      "RF, MeanAUC=0.98, Time:1.2 mins\n",
      "XGB, MeanAUC=0.92, Time:1.1 mins\n",
      "* Scores saved ./results/Class_Outer-3-foldCV.csv\n",
      "Total time: 7.3255021890004475  mins\n",
      "* Saving plot: ./results/Class_s-MinMax.fs-Best50.Outer-3-foldCV.jpeg\n"
     ]
    },
    {
     "data": {
      "text/plain": [
       "<Figure size 432x288 with 0 Axes>"
      ]
     },
     "metadata": {},
     "output_type": "display_data"
    }
   ],
   "source": [
    "# for each subset file\n",
    "df_results = None # all results \n",
    "\n",
    "for OutVar in outVars:\n",
    "    sFile = './datasets/ds.raw.csv'\n",
    "\n",
    "    # get data from file\n",
    "    Xdata, Ydata, Features = getDataFromDataset(sFile,OutVar)\n",
    "\n",
    "    # Calculate class weights\n",
    "    class_weights = set_weights(Ydata)\n",
    "    print(\"Class weights = \", class_weights)\n",
    "        \n",
    "    # try different folds for each subset -> box plots\n",
    "    for folds in foldTypes:\n",
    "        \n",
    "        # calculate outer CV for different binary classifiers\n",
    "        df_fold = Pipeline_OuterCV(Xdata, Ydata, label = OutVar, class_weights = class_weights, folds = folds, seed = seed)\n",
    "        df_fold['Dataset'] = OutVar\n",
    "        df_fold['folds'] = folds\n",
    "        \n",
    "        # add each result to a summary dataframe\n",
    "        df_results = pd.concat([df_results,df_fold])"
   ]
  },
  {
   "cell_type": "code",
   "execution_count": 8,
   "metadata": {},
   "outputs": [
    {
     "name": "stdout",
     "output_type": "stream",
     "text": [
      "\n",
      "==>> Saving summary ./results/Summary_s-Std.OuterCV.csv\n"
     ]
    },
    {
     "data": {
      "text/html": [
       "<div>\n",
       "<style scoped>\n",
       "    .dataframe tbody tr th:only-of-type {\n",
       "        vertical-align: middle;\n",
       "    }\n",
       "\n",
       "    .dataframe tbody tr th {\n",
       "        vertical-align: top;\n",
       "    }\n",
       "\n",
       "    .dataframe thead th {\n",
       "        text-align: right;\n",
       "    }\n",
       "</style>\n",
       "<table border=\"1\" class=\"dataframe\">\n",
       "  <thead>\n",
       "    <tr style=\"text-align: right;\">\n",
       "      <th></th>\n",
       "      <th>KNN</th>\n",
       "      <th>LR</th>\n",
       "      <th>LDA</th>\n",
       "      <th>DT</th>\n",
       "      <th>RF</th>\n",
       "      <th>XGB</th>\n",
       "      <th>Dataset</th>\n",
       "      <th>folds</th>\n",
       "    </tr>\n",
       "  </thead>\n",
       "  <tbody>\n",
       "    <tr>\n",
       "      <th>0</th>\n",
       "      <td>0.891621</td>\n",
       "      <td>0.895073</td>\n",
       "      <td>0.894401</td>\n",
       "      <td>0.913287</td>\n",
       "      <td>0.980144</td>\n",
       "      <td>0.922861</td>\n",
       "      <td>Class</td>\n",
       "      <td>3</td>\n",
       "    </tr>\n",
       "    <tr>\n",
       "      <th>1</th>\n",
       "      <td>0.888944</td>\n",
       "      <td>0.896324</td>\n",
       "      <td>0.893817</td>\n",
       "      <td>0.907986</td>\n",
       "      <td>0.978447</td>\n",
       "      <td>0.922883</td>\n",
       "      <td>Class</td>\n",
       "      <td>3</td>\n",
       "    </tr>\n",
       "    <tr>\n",
       "      <th>2</th>\n",
       "      <td>0.892288</td>\n",
       "      <td>0.891756</td>\n",
       "      <td>0.893524</td>\n",
       "      <td>0.905906</td>\n",
       "      <td>0.979795</td>\n",
       "      <td>0.923725</td>\n",
       "      <td>Class</td>\n",
       "      <td>3</td>\n",
       "    </tr>\n",
       "  </tbody>\n",
       "</table>\n",
       "</div>"
      ],
      "text/plain": [
       "        KNN        LR       LDA        DT        RF       XGB Dataset  folds\n",
       "0  0.891621  0.895073  0.894401  0.913287  0.980144  0.922861   Class      3\n",
       "1  0.888944  0.896324  0.893817  0.907986  0.978447  0.922883   Class      3\n",
       "2  0.892288  0.891756  0.893524  0.905906  0.979795  0.923725   Class      3"
      ]
     },
     "execution_count": 8,
     "metadata": {},
     "output_type": "execute_result"
    }
   ],
   "source": [
    "# save all results\n",
    "summaryFile = './results/Summary_'+targetName+'CV.csv'\n",
    "print('\\n==>> Saving summary', summaryFile)\n",
    "df_results.to_csv(summaryFile, index=False)\n",
    "df_results"
   ]
  },
  {
   "cell_type": "markdown",
   "metadata": {},
   "source": [
    "## Box plots from results\n",
    "\n",
    "Load the results from file (if you dont want to run the previous calculations):"
   ]
  },
  {
   "cell_type": "code",
   "execution_count": 9,
   "metadata": {},
   "outputs": [
    {
     "name": "stdout",
     "output_type": "stream",
     "text": [
      "\n",
      "-> Read summary results ./results/Summary_s-Std.OuterCV.csv\n"
     ]
    }
   ],
   "source": [
    "summaryFile = './results/Summary_'+targetName+'CV.csv'\n",
    "\n",
    "print('\\n-> Read summary results', summaryFile)\n",
    "df_results = pd.read_csv(summaryFile)"
   ]
  },
  {
   "cell_type": "markdown",
   "metadata": {},
   "source": [
    "Get list of classifiers from output file:"
   ]
  },
  {
   "cell_type": "code",
   "execution_count": 10,
   "metadata": {},
   "outputs": [
    {
     "data": {
      "text/plain": [
       "['KNN', 'LR', 'LDA', 'DT', 'RF', 'XGB']"
      ]
     },
     "execution_count": 10,
     "metadata": {},
     "output_type": "execute_result"
    }
   ],
   "source": [
    "classifierNames = list(df_results.columns)\n",
    "classifierNames.remove('Dataset')\n",
    "classifierNames.remove('folds')\n",
    "classifierNames"
   ]
  },
  {
   "cell_type": "markdown",
   "metadata": {},
   "source": [
    "Get list of folds:"
   ]
  },
  {
   "cell_type": "code",
   "execution_count": 11,
   "metadata": {},
   "outputs": [
    {
     "data": {
      "text/plain": [
       "[3]"
      ]
     },
     "execution_count": 11,
     "metadata": {},
     "output_type": "execute_result"
    }
   ],
   "source": [
    "foldTypes = list(set(df_results['folds']))\n",
    "foldTypes.sort()\n",
    "foldTypes"
   ]
  },
  {
   "cell_type": "markdown",
   "metadata": {},
   "source": [
    "### Boxplots by Dataset\n",
    "\n",
    "Create grouped plots for each dataset and number of folds:"
   ]
  },
  {
   "cell_type": "code",
   "execution_count": 12,
   "metadata": {},
   "outputs": [
    {
     "name": "stdout",
     "output_type": "stream",
     "text": [
      "==> Fold = 3\n"
     ]
    },
    {
     "data": {
      "text/plain": [
       "<Figure size 432x288 with 0 Axes>"
      ]
     },
     "metadata": {},
     "output_type": "display_data"
    },
    {
     "data": {
      "image/png": "[encoded data removed]",
      "text/plain": [
       "<Figure size 1152x864 with 1 Axes>"
      ]
     },
     "metadata": {
      "needs_background": "light"
     },
     "output_type": "display_data"
    }
   ],
   "source": [
    "for f in foldTypes:\n",
    "    plt.figure()\n",
    "    plt.clf()\n",
    "    print('==> Fold =', f)\n",
    "    grouped = df_results[df_results['folds']==f].drop(['folds'], axis=1).groupby('Dataset')\n",
    "    grouped.boxplot(figsize=(16,12), return_type='axes')\n",
    "    plt.savefig('./results/byDataset_'+targetName+'-'+str(f)+'-foldCV.png')\n",
    "    plt.show()"
   ]
  }
 ],
 "metadata": {
  "kernelspec": {
   "display_name": "Python 3",
   "language": "python",
   "name": "python3"
  },
  "language_info": {
   "codemirror_mode": {
    "name": "ipython",
    "version": 3
   },
   "file_extension": ".py",
   "mimetype": "text/x-python",
   "name": "python",
   "nbconvert_exporter": "python",
   "pygments_lexer": "ipython3",
   "version": "3.7.1"
  }
 },
 "nbformat": 4,
 "nbformat_minor": 2
}
