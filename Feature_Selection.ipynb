{
 "cells": [
  {
   "cell_type": "markdown",
   "metadata": {},
   "source": [
    "## Feature Selection"
   ]
  },
  {
   "cell_type": "code",
   "execution_count": null,
   "metadata": {},
   "outputs": [],
   "source": [
    "import pandas as pd\n",
    "import numpy as np\n",
    "import matplotlib.pyplot as plt\n",
    "import time\n",
    "from sklearn.preprocessing import StandardScaler\n",
    "from sklearn.ensemble import RandomForestClassifier,ExtraTreesClassifier\n",
    "from sklearn.utils.class_weight import compute_class_weight\n",
    "from sklearn.model_selection import StratifiedKFold, cross_val_score\n",
    "from sklearn.feature_selection import SelectFromModel\n",
    "from sklearn.metrics import roc_auc_score\n",
    "from sklearn.pipeline import Pipeline"
   ]
  },
  {
   "cell_type": "code",
   "execution_count": null,
   "metadata": {},
   "outputs": [],
   "source": [
    "df = pd.read_csv('./datasets/ds.raw.csv')\n",
    "\n",
    "y = df.Class\n",
    "X = df.drop(\"Class\" ,axis=1)\n",
    "\n",
    "X = X.values\n",
    "y = y.values\n",
    "\n",
    "cw = compute_class_weight('balanced', np.unique(y), y)\n",
    "cw_dic = {i:j for i,j in zip(np.unique(y), cw)}\n",
    "scaler = StandardScaler()\n",
    "\n",
    "clf = RandomForestClassifier(n_estimators=100, class_weight=cw_dic)\n",
    "pipe = Pipeline([('Scaler', scaler),\n",
    "                 ('Classifier', clf)])"
   ]
  },
  {
   "cell_type": "code",
   "execution_count": null,
   "metadata": {},
   "outputs": [],
   "source": [
    "cv = StratifiedKFold(n_splits=10, shuffle=True)\n",
    "\n",
    "alg = RandomForestClassifier(n_estimators=100, class_weight=cw_dic)\n",
    "resultados = np.empty((0, X.shape[1]))\n",
    "\n",
    "for _ in range(3):\n",
    "    for i_train, i_test in cv.split(X,y):\n",
    "        X_train = X[i_train,:]\n",
    "        X_test = X[i_test,:]\n",
    "        y_train = y[i_train]\n",
    "        y_test = y[i_test]\n",
    "\n",
    "        scaler.fit(X_train)\n",
    "        X_train = scaler.transform(X_train)\n",
    "        X_test = scaler.transform(X_test)\n",
    "\n",
    "        alg.fit(X_train, y_train)\n",
    "        resultados = np.vstack((resultados,alg.feature_importances_))\n",
    "        "
   ]
  },
  {
   "cell_type": "code",
   "execution_count": null,
   "metadata": {},
   "outputs": [],
   "source": [
    "# para drug son 10 condiciones experimentales (c0 -> c9), para nanoparticulas 6 (c0 -> c5) \n",
    "feature_imp = np.mean(resultados,axis=0)\n",
    "seleccion = np.array(df.columns[1:])[feature_imp >= np.mean(feature_imp)]\n",
    "print(seleccion)"
   ]
  },
  {
   "cell_type": "markdown",
   "metadata": {},
   "source": [
    "En Notas Humberto.txt pone que hay diez condiciones experimentales para los farmacos y 6 para las nanoparticulas, sin embargo no aparece en el dataset ds.raw.csv, solo hay hasta la condicion 6. Lo mismo ocurre con las nanoparticulas, falta la ultima condicion experimenta\n"
   ]
  },
  {
   "cell_type": "code",
   "execution_count": null,
   "metadata": {},
   "outputs": [],
   "source": [
    "# para drug son 10 condiciones experimentales (c0 -> c9), para nanoparticulas 6 (c0 -> c5)\n",
    "if not 'prob' in seleccion:\n",
    "    print('prob no presente en la selección, se va a añadir')\n",
    "    seleccion = np.append(seleccion,'prob')\n",
    "\n",
    "falta_np = []\n",
    "# falta las condiciones experimentales 5\n",
    "for i in range(5):\n",
    "    for feature in seleccion:\n",
    "        if feature.startswith('np') and feature.find('c' + str(i)) != -1:\n",
    "            break\n",
    "    else:\n",
    "        falta_np.append('c' + str(i))\n",
    "\n",
    "falta_d = []\n",
    "# falta las condiciones experimentales 7,8,9.\n",
    "\n",
    "for i in range(7):\n",
    "    for feature in seleccion:\n",
    "        if feature.startswith('d') and feature.find('c' + str(i)) != -1:\n",
    "            break\n",
    "    else:\n",
    "        falta_d.append('c' + str(i))\n",
    "print('En nanoparticulas faltan las condiciones experimentales: {}'.format(falta_np if falta_np else 'Ninguna'))\n",
    "print('En farmacos faltan las condiciones experimentales: {}'.format(falta_d if falta_d else 'Ninguna' ))\n"
   ]
  },
  {
   "cell_type": "code",
   "execution_count": null,
   "metadata": {},
   "outputs": [],
   "source": [
    "for feat in falta_np:\n",
    "    indices,nombre = zip(*[(indice, nombre) for indice, nombre in enumerate(df.columns[1:]) if feat in nombre and 'np' in nombre])\n",
    "    i = np.argmax(feature_imp[np.array(indices)])\n",
    "    seleccion = np.append(seleccion, nombre[i])\n"
   ]
  },
  {
   "cell_type": "code",
   "execution_count": null,
   "metadata": {},
   "outputs": [],
   "source": [
    "X = df[seleccion]\n",
    "X = X.values\n",
    "print('Los features seleccionados son: \\n{}'.format(', '.join(seleccion)))"
   ]
  },
  {
   "cell_type": "code",
   "execution_count": null,
   "metadata": {},
   "outputs": [],
   "source": [
    "scores = cross_val_score(pipe, X, y, cv=cv, scoring='roc_auc')"
   ]
  },
  {
   "cell_type": "code",
   "execution_count": null,
   "metadata": {},
   "outputs": [],
   "source": [
    "print('Valor medio del test {:4.3f}: '.format(np.mean(scores)))\n",
    "print(', '.join(map(str, np.round(scores,4))))"
   ]
  }
 ],
 "metadata": {
  "kernelspec": {
   "display_name": "Python 3",
   "language": "python",
   "name": "python3"
  },
  "language_info": {
   "codemirror_mode": {
    "name": "ipython",
    "version": 3
   },
   "file_extension": ".py",
   "mimetype": "text/x-python",
   "name": "python",
   "nbconvert_exporter": "python",
   "pygments_lexer": "ipython3",
   "version": "3.6.7"
  }
 },
 "nbformat": 4,
 "nbformat_minor": 2
}
