{
 "cells": [
  {
   "cell_type": "markdown",
   "metadata": {},
   "source": [
    "# Feature selection - antimalaria Drug-Decorated Nanoparticles "
   ]
  },
  {
   "cell_type": "code",
   "execution_count": 1,
   "metadata": {},
   "outputs": [],
   "source": [
    "import pandas as pd\n",
    "import numpy as np\n",
    "import matplotlib.pyplot as plt\n",
    "import time\n",
    "from sklearn.preprocessing import StandardScaler\n",
    "from sklearn.ensemble import RandomForestClassifier,ExtraTreesClassifier\n",
    "from sklearn.utils.class_weight import compute_class_weight\n",
    "from sklearn.model_selection import StratifiedKFold, cross_val_score\n",
    "from sklearn.feature_selection import SelectFromModel\n",
    "from sklearn.metrics import roc_auc_score\n",
    "from sklearn.pipeline import Pipeline"
   ]
  },
  {
   "cell_type": "markdown",
   "metadata": {},
   "source": [
    "Read the pool dataset with all the features for drugs and nanoparticles:"
   ]
  },
  {
   "cell_type": "code",
   "execution_count": 2,
   "metadata": {},
   "outputs": [],
   "source": [
    "df = pd.read_csv('./NanoDrugsMalaria/datasets/ds.raw.csv')\n",
    "\n",
    "y = df.Class\n",
    "X = df.drop(\"Class\" ,axis=1)\n",
    "\n",
    "X = X.values\n",
    "y = y.values\n",
    "\n",
    "# define the classes weights\n",
    "cw = compute_class_weight('balanced', np.unique(y), y)\n",
    "cw_dic = {i:j for i,j in zip(np.unique(y), cw)}\n",
    "\n",
    "# use Standard scaler before classification\n",
    "scaler = StandardScaler()\n",
    "\n",
    "# define a classifier as RF\n",
    "clf = RandomForestClassifier(n_estimators=50, class_weight=cw_dic)\n",
    "\n",
    "# create a pipeline: scaler + classifier\n",
    "pipe = Pipeline([('Scaler', scaler),\n",
    "                 ('Classifier', clf)])"
   ]
  },
  {
   "cell_type": "code",
   "execution_count": null,
   "metadata": {},
   "outputs": [],
   "source": [
    "# define 10-fold cross-validation\n",
    "cv = StratifiedKFold(n_splits=10, shuffle=True)\n",
    "\n",
    "# select Extra Trees classifier for feature selection\n",
    "alg = ExtraTreesClassifier(n_estimators=100, class_weight=cw_dic)\n",
    "resultados = np.empty((0, X.shape[1]))\n",
    "\n",
    "for _ in range(3):\n",
    "    for i_train, i_test in cv.split(X,y):\n",
    "        X_train = X[i_train,:]\n",
    "        X_test = X[i_test,:]\n",
    "        y_train = y[i_train]\n",
    "        y_test = y[i_test]\n",
    "\n",
    "        # scale features\n",
    "        scaler.fit(X_train)\n",
    "        X_train = scaler.transform(X_train)\n",
    "        X_test = scaler.transform(X_test)\n",
    "        \n",
    "        # select the features\n",
    "        alg.fit(X_train, y_train)\n",
    "        resultados = np.vstack((resultados,alg.feature_importances_))\n",
    "        "
   ]
  },
  {
   "cell_type": "markdown",
   "metadata": {},
   "source": [
    "Summary of the selected features:"
   ]
  },
  {
   "cell_type": "code",
   "execution_count": null,
   "metadata": {},
   "outputs": [],
   "source": [
    "# there are 7 experimental conditions for drugs (c0-c6) and 5 in the case of nanoparticles (c0-c4)\n",
    "feature_imp = np.mean(resultados,axis=0)\n",
    "seleccion = np.array(df.columns[1:])[feature_imp >= np.mean(feature_imp)]\n",
    "print(seleccion)"
   ]
  },
  {
   "cell_type": "markdown",
   "metadata": {},
   "source": [
    "The pure feature selection could exclude all the features for a specific experimental condition or the probability feature.\n",
    "Therefore, we are creating a custom feature selection method that add at least one feature for each experimental condition and the probability if it is missing."
   ]
  },
  {
   "cell_type": "code",
   "execution_count": null,
   "metadata": {},
   "outputs": [],
   "source": [
    "# there are 7 experimental conditions for drugs (c0-c6) and 5 in the case of nanoparticles (c0-c4)\n",
    "if not 'prob' in seleccion:\n",
    "    print('-> Probability is not presented in the selected features; it will be added to the list!')\n",
    "    seleccion = np.append(seleccion,'prob')\n",
    "\n",
    "falta_np = []\n",
    "for i in range(5):\n",
    "    for feature in seleccion:\n",
    "        if feature.startswith('np') and feature.find('c' + str(i)) != -1:\n",
    "            break\n",
    "    else:\n",
    "        falta_np.append('c' + str(i))\n",
    "\n",
    "falta_d = []\n",
    "for i in range(7):\n",
    "    for feature in seleccion:\n",
    "        if feature.startswith('d') and feature.find('c' + str(i)) != -1:\n",
    "            break\n",
    "    else:\n",
    "        falta_d.append('c' + str(i))\n",
    "\n",
    "print('* Checking missing experimental conditions in the automaticaly selected features:')\n",
    "print('For nanoparticles these experimental conditions are missing: {}'.format(falta_np if falta_np else 'None'))\n",
    "print('For drugs these experimental conditions are missing: {}'.format(falta_d if falta_d else 'None' ))"
   ]
  },
  {
   "cell_type": "markdown",
   "metadata": {},
   "source": [
    "Append features for the missing experimental conditions:"
   ]
  },
  {
   "cell_type": "code",
   "execution_count": null,
   "metadata": {},
   "outputs": [],
   "source": [
    "for feat in falta_np:\n",
    "    indices,nombre = zip(*[(indice, nombre) for indice, nombre in enumerate(df.columns[1:]) if feat in nombre and 'np' in nombre])\n",
    "    i = np.argmax(feature_imp[np.array(indices)])\n",
    "    seleccion = np.append(seleccion, nombre[i])"
   ]
  },
  {
   "cell_type": "markdown",
   "metadata": {},
   "source": [
    "List the full set of selected features using our custom selection method:"
   ]
  },
  {
   "cell_type": "code",
   "execution_count": null,
   "metadata": {},
   "outputs": [],
   "source": [
    "X = df[seleccion]\n",
    "X = X.values\n",
    "print('Selected features: \\n{}'.format(', '.join(seleccion)))"
   ]
  },
  {
   "cell_type": "code",
   "execution_count": null,
   "metadata": {},
   "outputs": [],
   "source": [
    "scores = cross_val_score(pipe, X, y, cv=cv, scoring='roc_auc')"
   ]
  },
  {
   "cell_type": "code",
   "execution_count": 9,
   "metadata": {},
   "outputs": [
    {
     "name": "stdout",
     "output_type": "stream",
     "text": [
      "Valor medio del test 0.992: \n",
      "[0.99043778 0.99234321 0.99263544 0.99206482 0.99072553 0.99168723\n",
      " 0.99290171 0.99194402 0.99199546 0.99176663]\n"
     ]
    }
   ],
   "source": [
    "print('Mean test AUC for 10-fold CV: {:4.3f}: '.format(np.mean(scores)))\n",
    "print(scores)"
   ]
  }
 ],
 "metadata": {
  "kernelspec": {
   "display_name": "Python 3",
   "language": "python",
   "name": "python3"
  },
  "language_info": {
   "codemirror_mode": {
    "name": "ipython",
    "version": 3
   },
   "file_extension": ".py",
   "mimetype": "text/x-python",
   "name": "python",
   "nbconvert_exporter": "python",
   "pygments_lexer": "ipython3",
   "version": "3.8.3"
  }
 },
 "nbformat": 4,
 "nbformat_minor": 4
}
